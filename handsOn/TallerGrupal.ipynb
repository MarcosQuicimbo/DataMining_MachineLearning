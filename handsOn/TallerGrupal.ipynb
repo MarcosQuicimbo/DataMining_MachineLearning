{
  "cells": [
    {
      "cell_type": "markdown",
      "metadata": {},
      "source": [
        "# Workshop: Implement the KNN algorithm to classify the digits correctly"
      ]
    },
    {
      "cell_type": "markdown",
      "metadata": {},
      "source": [
        "Authors: \n",
        "1. Marcos Qucihimbo \n",
        "2. Sthevven Morales "
      ]
    },
    {
      "cell_type": "markdown",
      "metadata": {},
      "source": [
        "# KNN: Handwrittend digit recognition "
      ]
    },
    {
      "cell_type": "code",
      "execution_count": 9,
      "metadata": {},
      "outputs": [],
      "source": [
        "from sklearn import datasets\n",
        "from sklearn.model_selection import train_test_split\n",
        "from sklearn.preprocessing import MinMaxScaler\n",
        "from sklearn.neighbors import KNeighborsClassifier\n",
        "from sklearn.model_selection import cross_val_score\n",
        "import numpy as np\n",
        "from sklearn.metrics import accuracy_score, precision_score, recall_score, f1_score\n",
        "import matplotlib.pyplot as plt\n",
        "\n"
      ]
    },
    {
      "cell_type": "markdown",
      "metadata": {
        "id": "Y2Mx2n5fbf0u"
      },
      "source": [
        " 1: Data Preprocessing"
      ]
    },
    {
      "cell_type": "code",
      "execution_count": 3,
      "metadata": {
        "colab": {
          "base_uri": "https://localhost:8080/"
        },
        "id": "dgQ5GL7cbWg-",
        "outputId": "fd5b0106-8831-41d8-9c25-8697ed23d1a1"
      },
      "outputs": [
        {
          "data": {
            "text/plain": [
              "((1437, 64), (360, 64), (1437,), (360,))"
            ]
          },
          "execution_count": 3,
          "metadata": {},
          "output_type": "execute_result"
        }
      ],
      "source": [
        "# Load the MNIST dataset from sklearn\n",
        "digits = datasets.load_digits()\n",
        "\n",
        "# Extract features and labels\n",
        "X, y = digits.data, digits.target\n",
        "\n",
        "# Scale features using MinMaxScaler\n",
        "scaler = MinMaxScaler()\n",
        "X_scaled = scaler.fit_transform(X)\n",
        "\n",
        "# Split the data into training and test sets\n",
        "X_train, X_test, y_train, y_test = train_test_split(X_scaled, y, test_size=0.2, random_state=42)\n",
        "\n",
        "# Show the shapes to confirm the split\n",
        "X_train.shape, X_test.shape, y_train.shape, y_test.shape\n"
      ]
    },
    {
      "cell_type": "markdown",
      "metadata": {
        "id": "CG-P6YNKbnRE"
      },
      "source": [
        " 2: Model Building"
      ]
    },
    {
      "cell_type": "code",
      "execution_count": 6,
      "metadata": {
        "colab": {
          "base_uri": "https://localhost:8080/"
        },
        "id": "otsvYiGUbnxs",
        "outputId": "451b67c3-f710-41c3-a567-d0a671baeb21"
      },
      "outputs": [
        {
          "data": {
            "text/plain": [
              "(1, 0.9812122996579125)"
            ]
          },
          "execution_count": 6,
          "metadata": {},
          "output_type": "execute_result"
        }
      ],
      "source": [
        "# Initialize variables to store cross-validation scores and corresponding k values\n",
        "cv_scores = []\n",
        "k_values = list(range(1, 21))  # We will try k from 1 to 20\n",
        "\n",
        "# Perform cross-validation for each k\n",
        "for k in k_values:\n",
        "    knn = KNeighborsClassifier(n_neighbors=k)\n",
        "    scores = cross_val_score(knn, X_train, y_train, cv=2, scoring='accuracy')\n",
        "    cv_scores.append(scores.mean())\n",
        "\n",
        "# Find the k with the highest cross-validation accuracy\n",
        "best_k = k_values[np.argmax(cv_scores)]\n",
        "best_k, max(cv_scores)\n"
      ]
    },
    {
      "cell_type": "code",
      "execution_count": 11,
      "metadata": {},
      "outputs": [
        {
          "data": {
            "text/plain": [
              "[0.9812122996579125,\n",
              " 0.9714678387267986,\n",
              " 0.9756470802453112,\n",
              " 0.9728644705390108,\n",
              " 0.9700799237566877,\n",
              " 0.9645156728820978,\n",
              " 0.9672992511264098,\n",
              " 0.9638192940520143,\n",
              " 0.9624265363918472,\n",
              " 0.9596439266855468,\n",
              " 0.9603403055156303,\n",
              " 0.9575576958093297,\n",
              " 0.955468559319079,\n",
              " 0.9554695278570903,\n",
              " 0.9533823284428621,\n",
              " 0.951989570782695,\n",
              " 0.9540787072729456,\n",
              " 0.9512951290286339,\n",
              " 0.9485105822463108,\n",
              " 0.9478180775682723]"
            ]
          },
          "execution_count": 11,
          "metadata": {},
          "output_type": "execute_result"
        }
      ],
      "source": [
        "cv_scores"
      ]
    },
    {
      "cell_type": "markdown",
      "metadata": {
        "id": "dJcskTr3bwtt"
      },
      "source": [
        "3: Model Evaluation"
      ]
    },
    {
      "cell_type": "code",
      "execution_count": 12,
      "metadata": {
        "colab": {
          "base_uri": "https://localhost:8080/"
        },
        "id": "GENJugLtbxYS",
        "outputId": "93e5cb0e-5413-4b6a-f5b9-00fe1c41b5e3"
      },
      "outputs": [
        {
          "name": "stdout",
          "output_type": "stream",
          "text": [
            "accuracy:  0.9833333333333333 \n",
            "precision:  0.9834985471715754 \n",
            "recall:  0.9833333333333333 \n",
            "f1-score 0.9832256044170081\n"
          ]
        }
      ],
      "source": [
        "# Initialize the KNN classifier with the best k value\n",
        "knn_best = KNeighborsClassifier(n_neighbors=3)\n",
        "\n",
        "# Fit the model on the training data\n",
        "knn_best.fit(X_train, y_train)\n",
        "\n",
        "# Make predictions on the test set\n",
        "y_pred = knn_best.predict(X_test)\n",
        "\n",
        "# Calculate and display the evaluation metrics\n",
        "accuracy = accuracy_score(y_test, y_pred)\n",
        "precision = precision_score(y_test, y_pred, average='weighted')\n",
        "recall = recall_score(y_test, y_pred, average='weighted')\n",
        "f1 = f1_score(y_test, y_pred, average='weighted')\n",
        "\n",
        "#accuracy, precision, recall, f1\n",
        "print(\"accuracy: \", accuracy,\n",
        "      \"\\nprecision: \", precision,\n",
        "      \"\\nrecall: \", recall,\n",
        "      \"\\nf1-score\", f1)\n"
      ]
    },
    {
      "cell_type": "markdown",
      "metadata": {
        "id": "MOMGuagGb5PY"
      },
      "source": [
        " 4: Visualization"
      ]
    },
    {
      "cell_type": "code",
      "execution_count": 13,
      "metadata": {
        "colab": {
          "base_uri": "https://localhost:8080/",
          "height": 577
        },
        "id": "eln6kttSb50f",
        "outputId": "96322d92-a1b8-4cd9-ae79-102d8fda2d1e"
      },
      "outputs": [
        {
          "data": {
            "image/png": "[encoded data removed]",
            "text/plain": [
              "<Figure size 1000x400 with 5 Axes>"
            ]
          },
          "metadata": {},
          "output_type": "display_data"
        },
        {
          "data": {
            "image/png": "[encoded data removed]",
            "text/plain": [
              "<Figure size 1000x400 with 5 Axes>"
            ]
          },
          "metadata": {},
          "output_type": "display_data"
        }
      ],
      "source": [
        "# Initialize variables to store indices of correctly and incorrectly classified samples\n",
        "correct_indices = []\n",
        "incorrect_indices = []\n",
        "\n",
        "# Find indices of correctly and incorrectly classified samples\n",
        "for i, (true_label, pred_label) in enumerate(zip(y_test, y_pred)):\n",
        "    if true_label == pred_label:\n",
        "        correct_indices.append(i)\n",
        "    else:\n",
        "        incorrect_indices.append(i)\n",
        "\n",
        "# Function to plot digits\n",
        "def plot_digits(indices, title):\n",
        "    plt.figure(figsize=(10, 4))\n",
        "    for index, item in enumerate(indices[:5]):\n",
        "        plt.subplot(1, 5, index + 1)\n",
        "        plt.imshow(X_test[item].reshape(8, 8), cmap='gray')\n",
        "        plt.title(f\"True: {y_test[item]}\\nPred: {y_pred[item]}\")\n",
        "        plt.axis(\"off\")\n",
        "    plt.suptitle(title)\n",
        "    plt.show()\n",
        "\n",
        "# Plot some correctly classified digits\n",
        "plot_digits(correct_indices, \"Correctly Classified Digits\")\n",
        "\n",
        "# Plot some incorrectly classified digits\n",
        "plot_digits(incorrect_indices, \"Incorrectly Classified Digits\")\n"
      ]
    }
  ],
  "metadata": {
    "colab": {
      "provenance": []
    },
    "kernelspec": {
      "display_name": "Python 3",
      "name": "python3"
    },
    "language_info": {
      "codemirror_mode": {
        "name": "ipython",
        "version": 3
      },
      "file_extension": ".py",
      "mimetype": "text/x-python",
      "name": "python",
      "nbconvert_exporter": "python",
      "pygments_lexer": "ipython3",
      "version": "3.7.16"
    }
  },
  "nbformat": 4,
  "nbformat_minor": 0
}
