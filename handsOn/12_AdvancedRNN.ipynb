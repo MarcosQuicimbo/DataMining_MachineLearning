{
  "cells": [
    {
      "cell_type": "markdown",
      "source": [
        "# 12 Advanced Recurrent Neural Networks\n",
        "\n",
        "Advanced Neural Network architectures represent significant advancements in the field of deep learning, which are most used in the domain of sequence modeling and processing. These architectures build upon the traditional feedforward neural networks and introduce recurrent connections, allowing them to exhibit temporal dynamics and memory capabilities.\n",
        "\n",
        "* The Elman RNN employs a simple recurrent loop in its hidden layer, enabling it to capture short-term temporal dependencies, making it suitable for applications such as speech recognition and time series analysis.\n",
        "* The Jordan RNN possesses feedback connections from the output layer to the hidden layer, rendering it capable of modeling longer-term dependencies, which finds applications in machine translation and language modeling tasks.\n",
        "* The Bidirectional RNN combines both forward and backward temporal processing, allowing it to consider both past and future context in its predictions, making it effective in natural language processing tasks such as sentiment analysis and named entity recognition.\n",
        "\n",
        "These advanced neural network architectures significantly expand the modeling capabilities of traditional neural networks and have become indispensable tools in various sequential data processing applications."
      ],
      "metadata": {
        "collapsed": false,
        "id": "yqVidKT3a7iz"
      }
    },
    {
      "cell_type": "markdown",
      "source": [
        "import tensorflow as tf\n",
        "from tensorflow import keras### Exercise\n",
        "Use the IMDB movie reviews dataset to perform sentiment analysis with a Elman, Jordan and Bidirectional RNN.\n",
        "Highlight the differences on the performance of each architecture."
      ],
      "metadata": {
        "collapsed": false,
        "id": "2dK2Eq9Ya7i2"
      }
    },
    {
      "cell_type": "code",
      "execution_count": 9,
      "metadata": {
        "collapsed": true,
        "id": "GBtddxlOa7i3"
      },
      "outputs": [],
      "source": [
        "import tensorflow as tf\n",
        "from tensorflow import keras\n",
        "from keras.datasets import imdb\n",
        "from keras.preprocessing import sequence\n",
        "from keras.models import Sequential\n",
        "from keras.layers import Embedding, SimpleRNN, Dense, Bidirectional"
      ]
    },
    {
      "cell_type": "markdown",
      "source": [
        "1. Load the IMDB movie reviews dataset"
      ],
      "metadata": {
        "collapsed": false,
        "id": "VLrQtu0da7i4"
      }
    },
    {
      "cell_type": "code",
      "execution_count": 10,
      "outputs": [],
      "source": [
        "max_features = 5000  # Number of words to consider as features\n",
        "max_len_short = 100  # Maximum sequence length for short sequences\n",
        "max_len_long = 500   # Maximum sequence length for long sequences\n",
        "\n",
        "(x_train, y_train), (x_test, y_test) = imdb.load_data(num_words=max_features)"
      ],
      "metadata": {
        "id": "lsQPNwGCa7i5"
      }
    },
    {
      "cell_type": "markdown",
      "source": [
        "2. Pad sequences to a fixed length for RNN input"
      ],
      "metadata": {
        "collapsed": false,
        "id": "EFDm_O8ea7i5"
      }
    },
    {
      "cell_type": "markdown",
      "source": [],
      "metadata": {
        "id": "Pi-WWdNLciOP"
      }
    },
    {
      "cell_type": "code",
      "execution_count": 12,
      "outputs": [],
      "source": [
        "x_train_short =keras.preprocessing.sequence.pad_sequences(x_train, maxlen=max_len_short)\n",
        "x_test_short = keras.preprocessing.sequence.pad_sequences(x_test, maxlen=max_len_short)\n",
        "\n",
        "x_train_long = keras.preprocessing.sequence.pad_sequences(x_train, maxlen=max_len_long)\n",
        "x_test_long = keras.preprocessing.sequence.pad_sequences(x_test, maxlen=max_len_long)"
      ],
      "metadata": {
        "id": "46OFzWaea7i5"
      }
    },
    {
      "cell_type": "markdown",
      "source": [
        "3. Build the distinct RNN models"
      ],
      "metadata": {
        "collapsed": false,
        "id": "3-z3xM1ia7i5"
      }
    },
    {
      "cell_type": "code",
      "execution_count": 21,
      "outputs": [],
      "source": [
        "from keras.layers.pooling.global_max_pooling1d import GlobalMaxPooling1D\n",
        "def build_elman_rnn_model():\n",
        "    model = Sequential()\n",
        "    model.add(Embedding(max_features, 32))\n",
        "    model.add(SimpleRNN(32, activation='relu'))\n",
        "    model.add(Dense(1, activation='sigmoid'))\n",
        "    return model\n",
        "\n",
        "def build_jordan_rnn_model():\n",
        "    model = Sequential()\n",
        "    model.add(Embedding(max_features, 32))\n",
        "    model.add(SimpleRNN(32, activation='relu', return_sequences=True))\n",
        "    model.add(GlobalMaxPooling1D())\n",
        "    model.add(Dense(1, activation='sigmoid'))\n",
        "    return model\n",
        "\n",
        "def build_bidirectional_rnn_model():\n",
        "    model = Sequential()\n",
        "    model.add(Embedding(max_features, 32))\n",
        "    model.add(Bidirectional(SimpleRNN(32, activation='relu')))\n",
        "    model.add(Dense(1, activation='sigmoid'))\n",
        "    return model"
      ],
      "metadata": {
        "id": "_-yQPmLKa7i6"
      }
    },
    {
      "cell_type": "markdown",
      "source": [
        "4. Train and evaluate the Elman RNN model"
      ],
      "metadata": {
        "collapsed": false,
        "id": "oWlFlHana7i6"
      }
    },
    {
      "cell_type": "code",
      "execution_count": 14,
      "outputs": [],
      "source": [
        "elman_model = build_elman_rnn_model()\n",
        "def train_and_evaluate_model(elman_model, x_train, y_train, x_test, y_test):\n",
        "    elman_model.compile(optimizer='adam', loss='binary_crossentropy', metrics=['accuracy'])\n",
        "    history = elman_model.fit(x_train, y_train, epochs=5, batch_size=128, validation_split=0.2)\n",
        "    loss, accuracy = elman_model.evaluate(x_test, y_test)\n",
        "    return loss, accuracy, history"
      ],
      "metadata": {
        "id": "FfSsxxcka7i7"
      }
    },
    {
      "cell_type": "markdown",
      "source": [
        "5. Train and evaluate the Elman RNN model on short sequences\n",
        "\n",
        "---\n",
        "\n"
      ],
      "metadata": {
        "collapsed": false,
        "id": "V3jnPd15a7i7"
      }
    },
    {
      "cell_type": "code",
      "execution_count": 15,
      "outputs": [
        {
          "output_type": "stream",
          "name": "stdout",
          "text": [
            "\n",
            "Training Elman RNN model on short sequences:\n",
            "Epoch 1/5\n",
            "157/157 [==============================] - 5s 26ms/step - loss: 0.6397 - accuracy: 0.6299 - val_loss: 0.4874 - val_accuracy: 0.7796\n",
            "Epoch 2/5\n",
            "157/157 [==============================] - 3s 21ms/step - loss: 0.3982 - accuracy: 0.8260 - val_loss: 0.3812 - val_accuracy: 0.8362\n",
            "Epoch 3/5\n",
            "157/157 [==============================] - 3s 21ms/step - loss: 0.2952 - accuracy: 0.8768 - val_loss: 0.3490 - val_accuracy: 0.8474\n",
            "Epoch 4/5\n",
            "157/157 [==============================] - 4s 26ms/step - loss: 0.2516 - accuracy: 0.8996 - val_loss: 0.3610 - val_accuracy: 0.8438\n",
            "Epoch 5/5\n",
            "157/157 [==============================] - 3s 21ms/step - loss: 0.2192 - accuracy: 0.9143 - val_loss: 0.3736 - val_accuracy: 0.8380\n",
            "782/782 [==============================] - 3s 4ms/step - loss: 0.3691 - accuracy: 0.8397\n"
          ]
        }
      ],
      "source": [
        "print(\"\\nTraining Elman RNN model on short sequences:\")\n",
        "rnn_model_short = build_elman_rnn_model()\n",
        "loss_short, accuracy_short, history_short = train_and_evaluate_model(\n",
        "    rnn_model_short, x_train_short, y_train, x_test_short, y_test\n",
        ")"
      ],
      "metadata": {
        "colab": {
          "base_uri": "https://localhost:8080/"
        },
        "id": "u6cM22hOa7i7",
        "outputId": "7f7c2025-f244-4e05-eab6-eceb65857774"
      }
    },
    {
      "cell_type": "markdown",
      "source": [
        "6. Train and evaluate the RNN model on long sequences"
      ],
      "metadata": {
        "collapsed": false,
        "id": "4u7hinS6a7i8"
      }
    },
    {
      "cell_type": "code",
      "execution_count": 16,
      "outputs": [
        {
          "output_type": "stream",
          "name": "stdout",
          "text": [
            "\n",
            "Training Elman RNN model on long sequences:\n",
            "Epoch 1/5\n",
            "157/157 [==============================] - 18s 104ms/step - loss: 0.6351 - accuracy: 0.6288 - val_loss: 0.5013 - val_accuracy: 0.7856\n",
            "Epoch 2/5\n",
            "157/157 [==============================] - 18s 112ms/step - loss: 0.4199 - accuracy: 0.8131 - val_loss: 0.4368 - val_accuracy: 0.7972\n",
            "Epoch 3/5\n",
            "157/157 [==============================] - 16s 103ms/step - loss: 0.3251 - accuracy: 0.8640 - val_loss: 0.3410 - val_accuracy: 0.8544\n",
            "Epoch 4/5\n",
            "157/157 [==============================] - 17s 107ms/step - loss: 0.3324 - accuracy: 0.8601 - val_loss: 0.3764 - val_accuracy: 0.8454\n",
            "Epoch 5/5\n",
            "157/157 [==============================] - 18s 114ms/step - loss: 0.4484 - accuracy: 0.8087 - val_loss: 0.4412 - val_accuracy: 0.7872\n",
            "782/782 [==============================] - 12s 15ms/step - loss: 0.4329 - accuracy: 0.8014\n"
          ]
        }
      ],
      "source": [
        "print(\"\\nTraining Elman RNN model on long sequences:\")\n",
        "rnn_model_long = build_elman_rnn_model()\n",
        "loss_long, accuracy_long, history_long = train_and_evaluate_model(\n",
        "    rnn_model_long, x_train_long, y_train, x_test_long, y_test\n",
        ")"
      ],
      "metadata": {
        "colab": {
          "base_uri": "https://localhost:8080/"
        },
        "id": "fmXQTPEJa7i9",
        "outputId": "69d23887-a57e-475a-9b0a-81df8a59b53d"
      }
    },
    {
      "cell_type": "markdown",
      "source": [
        "7. Compare the results"
      ],
      "metadata": {
        "collapsed": false,
        "id": "pvMrkZ8Ga7i9"
      }
    },
    {
      "cell_type": "code",
      "execution_count": 17,
      "outputs": [
        {
          "output_type": "stream",
          "name": "stdout",
          "text": [
            "\n",
            "Results on Short Sequences:\n",
            "Loss: 0.3691, Accuracy: 0.8397\n",
            "\n",
            "Results on Long Sequences:\n",
            "Loss: 0.4329, Accuracy: 0.8014\n"
          ]
        }
      ],
      "source": [
        "print(\"\\nResults on Short Sequences:\")\n",
        "print(f\"Loss: {loss_short:.4f}, Accuracy: {accuracy_short:.4f}\")\n",
        "\n",
        "print(\"\\nResults on Long Sequences:\")\n",
        "print(f\"Loss: {loss_long:.4f}, Accuracy: {accuracy_long:.4f}\")"
      ],
      "metadata": {
        "colab": {
          "base_uri": "https://localhost:8080/"
        },
        "id": "gfOb8FKWa7i9",
        "outputId": "419c5b93-59a2-4978-8138-7df37cbd2765"
      }
    },
    {
      "cell_type": "markdown",
      "source": [
        "# Jordan"
      ],
      "metadata": {
        "id": "j5FN4T7jievH"
      }
    },
    {
      "cell_type": "code",
      "source": [
        "jordan_model = build_jordan_rnn_model()\n",
        "def train_and_evaluate_model2(jordan_model, x_train, y_train, x_test, y_test):\n",
        "    jordan_model.compile(optimizer='adam', loss='binary_crossentropy', metrics=['accuracy'])\n",
        "    history = jordan_model.fit(x_train, y_train, epochs=5, batch_size=128, validation_split=0.2)\n",
        "    loss, accuracy = jordan_model.evaluate(x_test, y_test)\n",
        "    return loss, accuracy, history"
      ],
      "metadata": {
        "id": "HksSZMnViHCU"
      },
      "execution_count": 22,
      "outputs": []
    },
    {
      "cell_type": "markdown",
      "source": [
        "Train and evaluate the RNN model on short sequences"
      ],
      "metadata": {
        "id": "IY6zK9KSiq1q"
      }
    },
    {
      "cell_type": "code",
      "source": [
        "print(\"\\nTraining Jordan RNN model on short sequences:\")\n",
        "rnn_model_short = build_jordan_rnn_model()\n",
        "loss_short, accuracy_short, history_short = train_and_evaluate_model(\n",
        "    rnn_model_short, x_train_short, y_train, x_test_short, y_test\n",
        ")"
      ],
      "metadata": {
        "colab": {
          "base_uri": "https://localhost:8080/"
        },
        "id": "jmVVtAQBirNc",
        "outputId": "04427a96-400e-4907-8e36-001cadc6e544"
      },
      "execution_count": 26,
      "outputs": [
        {
          "output_type": "stream",
          "name": "stdout",
          "text": [
            "\n",
            "Training Jordan RNN model on short sequences:\n",
            "Epoch 1/5\n",
            "157/157 [==============================] - 5s 27ms/step - loss: 0.6169 - accuracy: 0.7042 - val_loss: 0.5021 - val_accuracy: 0.7650\n",
            "Epoch 2/5\n",
            "157/157 [==============================] - 5s 30ms/step - loss: 0.4074 - accuracy: 0.8207 - val_loss: 0.3759 - val_accuracy: 0.8330\n",
            "Epoch 3/5\n",
            "157/157 [==============================] - 5s 29ms/step - loss: 0.3041 - accuracy: 0.8746 - val_loss: 0.3973 - val_accuracy: 0.8276\n",
            "Epoch 4/5\n",
            "157/157 [==============================] - 5s 31ms/step - loss: 0.2439 - accuracy: 0.9023 - val_loss: 0.3786 - val_accuracy: 0.8366\n",
            "Epoch 5/5\n",
            "157/157 [==============================] - 4s 27ms/step - loss: 0.2045 - accuracy: 0.9241 - val_loss: 0.4784 - val_accuracy: 0.8212\n",
            "782/782 [==============================] - 6s 7ms/step - loss: 0.4908 - accuracy: 0.8190\n"
          ]
        }
      ]
    },
    {
      "cell_type": "markdown",
      "source": [
        "Train and evaluate the RNN model on long sequences"
      ],
      "metadata": {
        "id": "5hZT46PGjTjm"
      }
    },
    {
      "cell_type": "code",
      "source": [
        "print(\"\\nTraining Jordan RNN model on long sequences:\")\n",
        "rnn_model_long = build_jordan_rnn_model()\n",
        "loss_long, accuracy_long, history_long = train_and_evaluate_model(\n",
        "    rnn_model_long, x_train_long, y_train, x_test_long, y_test\n",
        ")"
      ],
      "metadata": {
        "colab": {
          "base_uri": "https://localhost:8080/"
        },
        "id": "NVyS7iyGjYdn",
        "outputId": "bf413d78-9ea6-4e12-a0b2-5ec457a58a4b"
      },
      "execution_count": 28,
      "outputs": [
        {
          "output_type": "stream",
          "name": "stdout",
          "text": [
            "\n",
            "Training Jordan RNN model on long sequences:\n",
            "Epoch 1/5\n",
            "157/157 [==============================] - 25s 146ms/step - loss: 0.6251 - accuracy: 0.7169 - val_loss: 0.4967 - val_accuracy: 0.7940\n",
            "Epoch 2/5\n",
            "157/157 [==============================] - 27s 174ms/step - loss: 0.4281 - accuracy: 0.8208 - val_loss: 0.3875 - val_accuracy: 0.8316\n",
            "Epoch 3/5\n",
            "157/157 [==============================] - 22s 141ms/step - loss: 0.3487 - accuracy: 0.8539 - val_loss: 0.3485 - val_accuracy: 0.8490\n",
            "Epoch 4/5\n",
            "157/157 [==============================] - 21s 135ms/step - loss: 0.2917 - accuracy: 0.8784 - val_loss: 0.3034 - val_accuracy: 0.8692\n",
            "Epoch 5/5\n",
            "157/157 [==============================] - 22s 143ms/step - loss: 0.2267 - accuracy: 0.9092 - val_loss: 0.2944 - val_accuracy: 0.8722\n",
            "782/782 [==============================] - 16s 20ms/step - loss: 0.3071 - accuracy: 0.8713\n"
          ]
        }
      ]
    },
    {
      "cell_type": "markdown",
      "source": [
        "Compare the results"
      ],
      "metadata": {
        "id": "Waon096yiyBQ"
      }
    },
    {
      "cell_type": "code",
      "source": [
        "print(\"\\nResults on Short Sequences:\")\n",
        "print(f\"Loss: {loss_short:.4f}, Accuracy: {accuracy_short:.4f}\")\n",
        "\n",
        "print(\"\\nResults on Long Sequences:\")\n",
        "print(f\"Loss: {loss_long:.4f}, Accuracy: {accuracy_long:.4f}\")"
      ],
      "metadata": {
        "colab": {
          "base_uri": "https://localhost:8080/"
        },
        "id": "47kZmnhyizAm",
        "outputId": "4fe1a686-895b-46ac-dea4-de7e09112561"
      },
      "execution_count": 29,
      "outputs": [
        {
          "output_type": "stream",
          "name": "stdout",
          "text": [
            "\n",
            "Results on Short Sequences:\n",
            "Loss: 0.4908, Accuracy: 0.8190\n",
            "\n",
            "Results on Long Sequences:\n",
            "Loss: 0.3071, Accuracy: 0.8713\n"
          ]
        }
      ]
    },
    {
      "cell_type": "markdown",
      "source": [
        "# Bidirectional\n"
      ],
      "metadata": {
        "id": "ixU2KZLti3ck"
      }
    },
    {
      "cell_type": "code",
      "source": [
        "bidirectional_model = build_bidirectional_rnn_model()\n",
        "def train_and_evaluate_model(bidirectional_model, x_train, y_train, x_test, y_test):\n",
        "    bidirectional_model.compile(optimizer='adam', loss='binary_crossentropy', metrics=['accuracy'])\n",
        "    history = bidirectional_model.fit(x_train, y_train, epochs=5, batch_size=128, validation_split=0.2)\n",
        "    loss, accuracy = bidirectional_model.evaluate(x_test, y_test)\n",
        "    return loss, accuracy, history"
      ],
      "metadata": {
        "id": "lQGfcHZDi9xD"
      },
      "execution_count": 30,
      "outputs": []
    },
    {
      "cell_type": "markdown",
      "source": [
        "Train and evaluate the Bidirectional RNN model on short sequences"
      ],
      "metadata": {
        "id": "gYG0lwJ_jKfC"
      }
    },
    {
      "cell_type": "code",
      "source": [
        "print(\"\\nTraining Bidirectional RNN model on short sequences:\")\n",
        "rnn_model_short = build_bidirectional_rnn_model()\n",
        "loss_short, accuracy_short, history_short = train_and_evaluate_model(\n",
        "    rnn_model_short, x_train_short, y_train, x_test_short, y_test\n",
        ")"
      ],
      "metadata": {
        "colab": {
          "base_uri": "https://localhost:8080/"
        },
        "id": "DMlbhNjfjPZf",
        "outputId": "b100ba0f-0757-44de-d25f-c16f892ba514"
      },
      "execution_count": 31,
      "outputs": [
        {
          "output_type": "stream",
          "name": "stdout",
          "text": [
            "\n",
            "Training Bidirectional RNN model on short sequences:\n",
            "Epoch 1/5\n",
            "157/157 [==============================] - 7s 37ms/step - loss: 0.6038 - accuracy: 0.6568 - val_loss: 0.4144 - val_accuracy: 0.8258\n",
            "Epoch 2/5\n",
            "157/157 [==============================] - 6s 40ms/step - loss: 0.3460 - accuracy: 0.8527 - val_loss: 0.3804 - val_accuracy: 0.8334\n",
            "Epoch 3/5\n",
            "157/157 [==============================] - 5s 35ms/step - loss: 0.2723 - accuracy: 0.8903 - val_loss: 0.3476 - val_accuracy: 0.8478\n",
            "Epoch 4/5\n",
            "157/157 [==============================] - 6s 40ms/step - loss: 0.2340 - accuracy: 0.9085 - val_loss: 0.3529 - val_accuracy: 0.8448\n",
            "Epoch 5/5\n",
            "157/157 [==============================] - 5s 35ms/step - loss: 0.2046 - accuracy: 0.9207 - val_loss: 0.4600 - val_accuracy: 0.8366\n",
            "782/782 [==============================] - 5s 7ms/step - loss: 0.4803 - accuracy: 0.8340\n"
          ]
        }
      ]
    },
    {
      "cell_type": "markdown",
      "source": [
        "Train and evaluate the RNN model on long sequences"
      ],
      "metadata": {
        "id": "WSmfkzUUjYCR"
      }
    },
    {
      "cell_type": "code",
      "source": [
        "print(\"\\nTraining Bidereccional RNN model on long sequences:\")\n",
        "rnn_model_long = build_bidirectional_rnn_model()\n",
        "loss_long, accuracy_long, history_long = train_and_evaluate_model(\n",
        "    rnn_model_long, x_train_long, y_train, x_test_long, y_test\n",
        ")"
      ],
      "metadata": {
        "colab": {
          "base_uri": "https://localhost:8080/"
        },
        "id": "dlp48CBXjZAy",
        "outputId": "772cb5a5-9c81-4dfe-bcfd-a71aaedef951"
      },
      "execution_count": 32,
      "outputs": [
        {
          "output_type": "stream",
          "name": "stdout",
          "text": [
            "\n",
            "Training Bidereccional RNN model on long sequences:\n",
            "Epoch 1/5\n",
            "157/157 [==============================] - 30s 184ms/step - loss: 0.6245 - accuracy: 0.6539 - val_loss: 0.6065 - val_accuracy: 0.6586\n",
            "Epoch 2/5\n",
            "157/157 [==============================] - 30s 188ms/step - loss: 0.4309 - accuracy: 0.8075 - val_loss: 0.3620 - val_accuracy: 0.8516\n",
            "Epoch 3/5\n",
            "157/157 [==============================] - 29s 187ms/step - loss: 0.3420 - accuracy: 0.8559 - val_loss: 0.3887 - val_accuracy: 0.8276\n",
            "Epoch 4/5\n",
            "157/157 [==============================] - 30s 190ms/step - loss: 0.2977 - accuracy: 0.8753 - val_loss: 0.4477 - val_accuracy: 0.7872\n",
            "Epoch 5/5\n",
            "157/157 [==============================] - 29s 185ms/step - loss: 0.2421 - accuracy: 0.9039 - val_loss: 0.3581 - val_accuracy: 0.8482\n",
            "782/782 [==============================] - 20s 25ms/step - loss: 0.3547 - accuracy: 0.8496\n"
          ]
        }
      ]
    },
    {
      "cell_type": "markdown",
      "source": [
        "Compare the results"
      ],
      "metadata": {
        "id": "dsaD6ejcjdwL"
      }
    },
    {
      "cell_type": "code",
      "source": [
        "print(\"\\nResults on Short Sequences:\")\n",
        "print(f\"Loss: {loss_short:.4f}, Accuracy: {accuracy_short:.4f}\")\n",
        "\n",
        "print(\"\\nResults on Long Sequences:\")\n",
        "print(f\"Loss: {loss_long:.4f}, Accuracy: {accuracy_long:.4f}\")"
      ],
      "metadata": {
        "colab": {
          "base_uri": "https://localhost:8080/"
        },
        "id": "rrhCBkzJjgYL",
        "outputId": "581d1692-914b-4e88-c5ba-69d382845495"
      },
      "execution_count": 33,
      "outputs": [
        {
          "output_type": "stream",
          "name": "stdout",
          "text": [
            "\n",
            "Results on Short Sequences:\n",
            "Loss: 0.4803, Accuracy: 0.8340\n",
            "\n",
            "Results on Long Sequences:\n",
            "Loss: 0.3547, Accuracy: 0.8496\n"
          ]
        }
      ]
    }
  ],
  "metadata": {
    "kernelspec": {
      "display_name": "Python 3",
      "language": "python",
      "name": "python3"
    },
    "language_info": {
      "codemirror_mode": {
        "name": "ipython",
        "version": 2
      },
      "file_extension": ".py",
      "mimetype": "text/x-python",
      "name": "python",
      "nbconvert_exporter": "python",
      "pygments_lexer": "ipython2",
      "version": "2.7.6"
    },
    "colab": {
      "provenance": []
    }
  },
  "nbformat": 4,
  "nbformat_minor": 0
}