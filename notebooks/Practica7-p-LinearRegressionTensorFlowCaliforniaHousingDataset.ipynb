{
  "nbformat": 4,
  "nbformat_minor": 0,
  "metadata": {
    "colab": {
      "provenance": []
    },
    "kernelspec": {
      "name": "python3",
      "display_name": "Python 3"
    },
    "language_info": {
      "name": "python"
    }
  },
  "cells": [
    {
      "cell_type": "markdown",
      "source": [
        "The goal of this exercise is to implement a linear regression model using TensorFlow to predict house prices based on the California Housing Dataset. The dataset contains various features such as average income, housing average age, and more. Your task is to build a linear regression model and evaluate its performance.\n",
        "\n",
        "Import the required libraries:"
      ],
      "metadata": {
        "id": "IoAbj_C7mYYV"
      }
    },
    {
      "cell_type": "code",
      "source": [
        "import tensorflow as tf\n",
        "import pandas as pd\n",
        "from sklearn.datasets import fetch_california_housing"
      ],
      "metadata": {
        "id": "C0gjFajVmZPi"
      },
      "execution_count": 1,
      "outputs": []
    },
    {
      "cell_type": "markdown",
      "source": [
        "Load the California Housing Dataset\n",
        "\n"
      ],
      "metadata": {
        "id": "bSRVsGv8mtT0"
      }
    },
    {
      "cell_type": "code",
      "source": [
        "raw = fetch_california_housing()\n",
        "X = pd.DataFrame(data=raw['data'], columns=raw['feature_names'])\n",
        "y = pd.Series(raw['target'])"
      ],
      "metadata": {
        "id": "Y1zZ4qupmt6K"
      },
      "execution_count": 3,
      "outputs": []
    },
    {
      "cell_type": "markdown",
      "source": [
        "Preprocess the data:\n",
        "\n",
        "Normalize the features using the mean and standard deviation.\n",
        "Split the dataset into training and testing sets (e.g., 80% for training, 20% for testing)."
      ],
      "metadata": {
        "id": "kFOPhSOTpRrF"
      }
    },
    {
      "cell_type": "markdown",
      "source": [
        " Before splitting the data into training and testing sets, you should normalize your features. This is done because different features can have different ranges of values. Here is how you can do it:"
      ],
      "metadata": {
        "id": "5QAfi3IdpaDi"
      }
    },
    {
      "cell_type": "code",
      "source": [
        "from sklearn.preprocessing import StandardScaler\n",
        "from sklearn.model_selection import train_test_split\n",
        "\n",
        "# Initialize a scaler using the training data.\n",
        "scaler = StandardScaler().fit(X)\n",
        "\n",
        "# Transform the full dataset\n",
        "X_scaled = scaler.transform(X)\n",
        "\n",
        "# Convert y to a numpy array\n",
        "y = y.values\n",
        "\n",
        "# Split the data into training and testing sets\n",
        "X_train, X_test, y_train, y_test = train_test_split(X_scaled, y, test_size=0.2, random_state=42)\n"
      ],
      "metadata": {
        "id": "kRCJdG4xmv4M"
      },
      "execution_count": 4,
      "outputs": []
    },
    {
      "cell_type": "markdown",
      "source": [
        "This will create training and testing sets from your normalized features and target values. The StandardScaler object standardizes the features by removing the mean and scaling to unit variance. It is fitted on the training set and used to transform the testing set to ensure the same scaling is applied.\n",
        "\n",
        "\n",
        "\n",
        "\n"
      ],
      "metadata": {
        "id": "4BZ8WRZ8pnZm"
      }
    },
    {
      "cell_type": "markdown",
      "source": [
        "Define the TensorFlow graph:\n",
        "\n",
        "Create placeholders for the input features (X) and target variable (y).\n",
        "Create variables for the model's weights (W) and bias (b).\n",
        "Define the linear regression model using the equation: y_pred = X * W + b.\n",
        "Define the loss function as the mean squared error between the predicted values and the true values.\n",
        "Choose an optimizer (e.g., Gradient Descent) to minimize the loss function."
      ],
      "metadata": {
        "id": "yO_mCm9VrE5G"
      }
    },
    {
      "cell_type": "code",
      "source": [
        "from tensorflow.keras.models import Sequential\n",
        "from tensorflow.keras.layers import Dense\n",
        "\n",
        "# Define the model\n",
        "model = Sequential()\n",
        "model.add(Dense(1, input_shape=(X_train.shape[1],)))\n",
        "\n",
        "# Define the loss function and optimizer\n",
        "model.compile(loss='mean_squared_error', optimizer='sgd')\n"
      ],
      "metadata": {
        "id": "psmbHAzmpoEJ"
      },
      "execution_count": 5,
      "outputs": []
    },
    {
      "cell_type": "markdown",
      "source": [
        "Train the model:\n",
        "\n",
        "Initialize TensorFlow session.\n",
        "Initialize the model's variables.\n",
        "Set the number of training epochs and the learning rate.\n",
        "For each epoch, iterate through the training dataset and update the model's parameters using the optimizer.\n",
        "Print the training loss at regular intervals."
      ],
      "metadata": {
        "id": "M0B7QA7Yqxyt"
      }
    },
    {
      "cell_type": "code",
      "source": [
        "from tensorflow.keras.optimizers import SGD\n",
        "\n",
        "# Define the model\n",
        "model = Sequential()\n",
        "model.add(Dense(1, input_shape=(X_train.shape[1],)))\n",
        "\n",
        "# Define the loss function and optimizer\n",
        "opt = SGD(learning_rate=0.01)  # Here we specify the learning rate\n",
        "model.compile(loss='mean_squared_error', optimizer=opt)\n",
        "\n",
        "# Train the model for 100 epochs\n",
        "history = model.fit(X_train, y_train, epochs=100, verbose=1, validation_split=0.2)\n"
      ],
      "metadata": {
        "colab": {
          "base_uri": "https://localhost:8080/"
        },
        "id": "kvv0mq99qyck",
        "outputId": "00e38dbd-d104-4067-922e-89d37f3f9251"
      },
      "execution_count": 7,
      "outputs": [
        {
          "output_type": "stream",
          "name": "stdout",
          "text": [
            "Epoch 1/100\n",
            "413/413 [==============================] - 1s 2ms/step - loss: 1.6816 - val_loss: 10.4155\n",
            "Epoch 2/100\n",
            "413/413 [==============================] - 1s 2ms/step - loss: 147.5293 - val_loss: 276.1617\n",
            "Epoch 3/100\n",
            "413/413 [==============================] - 1s 2ms/step - loss: 769.2672 - val_loss: 17714.4180\n",
            "Epoch 4/100\n",
            "413/413 [==============================] - 1s 3ms/step - loss: 17417.9102 - val_loss: 518777.5625\n",
            "Epoch 5/100\n",
            "413/413 [==============================] - 1s 3ms/step - loss: 5162996.5000 - val_loss: 15485771.0000\n",
            "Epoch 6/100\n",
            "413/413 [==============================] - 1s 2ms/step - loss: 414870816.0000 - val_loss: 441279904.0000\n",
            "Epoch 7/100\n",
            "413/413 [==============================] - 1s 2ms/step - loss: 11486354432.0000 - val_loss: 12896987136.0000\n",
            "Epoch 8/100\n",
            "413/413 [==============================] - 1s 2ms/step - loss: 185775996928.0000 - val_loss: 378123190272.0000\n",
            "Epoch 9/100\n",
            "413/413 [==============================] - 1s 2ms/step - loss: 9937080025088.0000 - val_loss: 10895346368512.0000\n",
            "Epoch 10/100\n",
            "413/413 [==============================] - 1s 2ms/step - loss: 56870505021440.0000 - val_loss: 323030563684352.0000\n",
            "Epoch 11/100\n",
            "413/413 [==============================] - 1s 2ms/step - loss: 336708860116992.0000 - val_loss: 9430045227483136.0000\n",
            "Epoch 12/100\n",
            "413/413 [==============================] - 1s 2ms/step - loss: 244927794318934016.0000 - val_loss: 271431745444773888.0000\n",
            "Epoch 13/100\n",
            "413/413 [==============================] - 1s 2ms/step - loss: 4197858154156916736.0000 - val_loss: 7738444200147943424.0000\n",
            "Epoch 14/100\n",
            "413/413 [==============================] - 1s 2ms/step - loss: 7435616707625877504.0000 - val_loss: 228665098977039876096.0000\n",
            "Epoch 15/100\n",
            "413/413 [==============================] - 1s 2ms/step - loss: 2309026631937779826688.0000 - val_loss: 6634558292904185430016.0000\n",
            "Epoch 16/100\n",
            "413/413 [==============================] - 1s 2ms/step - loss: 39463359188387019882496.0000 - val_loss: 193417840593336111464448.0000\n",
            "Epoch 17/100\n",
            "413/413 [==============================] - 1s 2ms/step - loss: 3055663091787702137257984.0000 - val_loss: 5619535986570307628433408.0000\n",
            "Epoch 18/100\n",
            "413/413 [==============================] - 1s 3ms/step - loss: 7395902100636316320399360.0000 - val_loss: 161983257787973154981806080.0000\n",
            "Epoch 19/100\n",
            "413/413 [==============================] - 1s 2ms/step - loss: 161138544483349847194206208.0000 - val_loss: 4810296061336962469516541952.0000\n",
            "Epoch 20/100\n",
            "413/413 [==============================] - 1s 2ms/step - loss: 133395698911434939184917250048.0000 - val_loss: 140126166738548209372123627520.0000\n",
            "Epoch 21/100\n",
            "413/413 [==============================] - 1s 2ms/step - loss: 2006905263260843749770652549120.0000 - val_loss: 4096697503029015512332097290240.0000\n",
            "Epoch 22/100\n",
            "413/413 [==============================] - 1s 2ms/step - loss: 5435308724322619706153822584832.0000 - val_loss: 117893594845041628418407290372096.0000\n",
            "Epoch 23/100\n",
            "413/413 [==============================] - 1s 3ms/step - loss: 145628829027079792446716766060544.0000 - val_loss: 3375017593054419737612293106565120.0000\n",
            "Epoch 24/100\n",
            "413/413 [==============================] - 1s 2ms/step - loss: inf - val_loss: 101920108513901386467597056204603392.0000\n",
            "Epoch 25/100\n",
            "413/413 [==============================] - 1s 2ms/step - loss: inf - val_loss: inf\n",
            "Epoch 26/100\n",
            "413/413 [==============================] - 1s 2ms/step - loss: inf - val_loss: inf\n",
            "Epoch 27/100\n",
            "413/413 [==============================] - 1s 2ms/step - loss: inf - val_loss: inf\n",
            "Epoch 28/100\n",
            "413/413 [==============================] - 1s 2ms/step - loss: inf - val_loss: inf\n",
            "Epoch 29/100\n",
            "413/413 [==============================] - 1s 2ms/step - loss: inf - val_loss: inf\n",
            "Epoch 30/100\n",
            "413/413 [==============================] - 1s 2ms/step - loss: inf - val_loss: inf\n",
            "Epoch 31/100\n",
            "413/413 [==============================] - 1s 2ms/step - loss: inf - val_loss: inf\n",
            "Epoch 32/100\n",
            "413/413 [==============================] - 2s 4ms/step - loss: inf - val_loss: inf\n",
            "Epoch 33/100\n",
            "413/413 [==============================] - 2s 6ms/step - loss: inf - val_loss: inf\n",
            "Epoch 34/100\n",
            "413/413 [==============================] - 1s 3ms/step - loss: inf - val_loss: inf\n",
            "Epoch 35/100\n",
            "413/413 [==============================] - 1s 2ms/step - loss: inf - val_loss: inf\n",
            "Epoch 36/100\n",
            "413/413 [==============================] - 1s 2ms/step - loss: inf - val_loss: inf\n",
            "Epoch 37/100\n",
            "413/413 [==============================] - 1s 2ms/step - loss: inf - val_loss: inf\n",
            "Epoch 38/100\n",
            "413/413 [==============================] - 1s 2ms/step - loss: inf - val_loss: inf\n",
            "Epoch 39/100\n",
            "413/413 [==============================] - 1s 2ms/step - loss: inf - val_loss: inf\n",
            "Epoch 40/100\n",
            "413/413 [==============================] - 1s 2ms/step - loss: inf - val_loss: inf\n",
            "Epoch 41/100\n",
            "413/413 [==============================] - 1s 2ms/step - loss: inf - val_loss: inf\n",
            "Epoch 42/100\n",
            "413/413 [==============================] - 1s 2ms/step - loss: inf - val_loss: inf\n",
            "Epoch 43/100\n",
            "413/413 [==============================] - 1s 2ms/step - loss: inf - val_loss: inf\n",
            "Epoch 44/100\n",
            "413/413 [==============================] - 1s 2ms/step - loss: inf - val_loss: inf\n",
            "Epoch 45/100\n",
            "413/413 [==============================] - 1s 3ms/step - loss: inf - val_loss: inf\n",
            "Epoch 46/100\n",
            "413/413 [==============================] - 1s 3ms/step - loss: inf - val_loss: inf\n",
            "Epoch 47/100\n",
            "413/413 [==============================] - 1s 2ms/step - loss: inf - val_loss: inf\n",
            "Epoch 48/100\n",
            "413/413 [==============================] - 1s 2ms/step - loss: inf - val_loss: inf\n",
            "Epoch 49/100\n",
            "413/413 [==============================] - 1s 2ms/step - loss: inf - val_loss: inf\n",
            "Epoch 50/100\n",
            "413/413 [==============================] - 1s 2ms/step - loss: nan - val_loss: nan\n",
            "Epoch 51/100\n",
            "413/413 [==============================] - 1s 2ms/step - loss: nan - val_loss: nan\n",
            "Epoch 52/100\n",
            "413/413 [==============================] - 1s 2ms/step - loss: nan - val_loss: nan\n",
            "Epoch 53/100\n",
            "413/413 [==============================] - 1s 2ms/step - loss: nan - val_loss: nan\n",
            "Epoch 54/100\n",
            "413/413 [==============================] - 1s 2ms/step - loss: nan - val_loss: nan\n",
            "Epoch 55/100\n",
            "413/413 [==============================] - 1s 2ms/step - loss: nan - val_loss: nan\n",
            "Epoch 56/100\n",
            "413/413 [==============================] - 1s 2ms/step - loss: nan - val_loss: nan\n",
            "Epoch 57/100\n",
            "413/413 [==============================] - 1s 2ms/step - loss: nan - val_loss: nan\n",
            "Epoch 58/100\n",
            "413/413 [==============================] - 1s 3ms/step - loss: nan - val_loss: nan\n",
            "Epoch 59/100\n",
            "413/413 [==============================] - 1s 3ms/step - loss: nan - val_loss: nan\n",
            "Epoch 60/100\n",
            "413/413 [==============================] - 1s 3ms/step - loss: nan - val_loss: nan\n",
            "Epoch 61/100\n",
            "413/413 [==============================] - 1s 2ms/step - loss: nan - val_loss: nan\n",
            "Epoch 62/100\n",
            "413/413 [==============================] - 1s 2ms/step - loss: nan - val_loss: nan\n",
            "Epoch 63/100\n",
            "413/413 [==============================] - 1s 2ms/step - loss: nan - val_loss: nan\n",
            "Epoch 64/100\n",
            "413/413 [==============================] - 1s 2ms/step - loss: nan - val_loss: nan\n",
            "Epoch 65/100\n",
            "413/413 [==============================] - 1s 2ms/step - loss: nan - val_loss: nan\n",
            "Epoch 66/100\n",
            "413/413 [==============================] - 1s 2ms/step - loss: nan - val_loss: nan\n",
            "Epoch 67/100\n",
            "413/413 [==============================] - 1s 2ms/step - loss: nan - val_loss: nan\n",
            "Epoch 68/100\n",
            "413/413 [==============================] - 1s 2ms/step - loss: nan - val_loss: nan\n",
            "Epoch 69/100\n",
            "413/413 [==============================] - 1s 2ms/step - loss: nan - val_loss: nan\n",
            "Epoch 70/100\n",
            "413/413 [==============================] - 1s 2ms/step - loss: nan - val_loss: nan\n",
            "Epoch 71/100\n",
            "413/413 [==============================] - 1s 3ms/step - loss: nan - val_loss: nan\n",
            "Epoch 72/100\n",
            "413/413 [==============================] - 1s 3ms/step - loss: nan - val_loss: nan\n",
            "Epoch 73/100\n",
            "413/413 [==============================] - 2s 4ms/step - loss: nan - val_loss: nan\n",
            "Epoch 74/100\n",
            "413/413 [==============================] - 1s 3ms/step - loss: nan - val_loss: nan\n",
            "Epoch 75/100\n",
            "413/413 [==============================] - 1s 2ms/step - loss: nan - val_loss: nan\n",
            "Epoch 76/100\n",
            "413/413 [==============================] - 1s 3ms/step - loss: nan - val_loss: nan\n",
            "Epoch 77/100\n",
            "413/413 [==============================] - 1s 2ms/step - loss: nan - val_loss: nan\n",
            "Epoch 78/100\n",
            "413/413 [==============================] - 1s 2ms/step - loss: nan - val_loss: nan\n",
            "Epoch 79/100\n",
            "413/413 [==============================] - 1s 2ms/step - loss: nan - val_loss: nan\n",
            "Epoch 80/100\n",
            "413/413 [==============================] - 1s 3ms/step - loss: nan - val_loss: nan\n",
            "Epoch 81/100\n",
            "413/413 [==============================] - 1s 3ms/step - loss: nan - val_loss: nan\n",
            "Epoch 82/100\n",
            "413/413 [==============================] - 1s 3ms/step - loss: nan - val_loss: nan\n",
            "Epoch 83/100\n",
            "413/413 [==============================] - 2s 5ms/step - loss: nan - val_loss: nan\n",
            "Epoch 84/100\n",
            "413/413 [==============================] - 3s 8ms/step - loss: nan - val_loss: nan\n",
            "Epoch 85/100\n",
            "413/413 [==============================] - 2s 5ms/step - loss: nan - val_loss: nan\n",
            "Epoch 86/100\n",
            "413/413 [==============================] - 2s 4ms/step - loss: nan - val_loss: nan\n",
            "Epoch 87/100\n",
            "413/413 [==============================] - 1s 2ms/step - loss: nan - val_loss: nan\n",
            "Epoch 88/100\n",
            "413/413 [==============================] - 1s 3ms/step - loss: nan - val_loss: nan\n",
            "Epoch 89/100\n",
            "413/413 [==============================] - 1s 2ms/step - loss: nan - val_loss: nan\n",
            "Epoch 90/100\n",
            "413/413 [==============================] - 1s 3ms/step - loss: nan - val_loss: nan\n",
            "Epoch 91/100\n",
            "413/413 [==============================] - 1s 2ms/step - loss: nan - val_loss: nan\n",
            "Epoch 92/100\n",
            "413/413 [==============================] - 1s 2ms/step - loss: nan - val_loss: nan\n",
            "Epoch 93/100\n",
            "413/413 [==============================] - 1s 2ms/step - loss: nan - val_loss: nan\n",
            "Epoch 94/100\n",
            "413/413 [==============================] - 1s 4ms/step - loss: nan - val_loss: nan\n",
            "Epoch 95/100\n",
            "413/413 [==============================] - 1s 2ms/step - loss: nan - val_loss: nan\n",
            "Epoch 96/100\n",
            "413/413 [==============================] - 1s 2ms/step - loss: nan - val_loss: nan\n",
            "Epoch 97/100\n",
            "413/413 [==============================] - 1s 2ms/step - loss: nan - val_loss: nan\n",
            "Epoch 98/100\n",
            "413/413 [==============================] - 1s 2ms/step - loss: nan - val_loss: nan\n",
            "Epoch 99/100\n",
            "413/413 [==============================] - 1s 2ms/step - loss: nan - val_loss: nan\n",
            "Epoch 100/100\n",
            "413/413 [==============================] - 1s 2ms/step - loss: nan - val_loss: nan\n"
          ]
        }
      ]
    },
    {
      "cell_type": "markdown",
      "source": [
        "Evaluate the model:\n",
        "\n",
        "Use the trained model to make predictions on the test dataset.\n",
        "Calculate the mean squared error (MSE) between the predicted and true values.\n",
        "Print the MSE as a measure of the model's performance"
      ],
      "metadata": {
        "id": "_Qm-OpLmrXWJ"
      }
    },
    {
      "cell_type": "code",
      "source": [
        "# Evaluate the model on the test data\n",
        "test_loss = model.evaluate(X_test, y_test, verbose=0)\n",
        "\n",
        "print(f\"Test Mean Squared Error (MSE): {test_loss}\")\n"
      ],
      "metadata": {
        "colab": {
          "base_uri": "https://localhost:8080/"
        },
        "id": "isscNOh9rYlZ",
        "outputId": "8e312456-2261-437e-fed7-65a31dbf45ff"
      },
      "execution_count": 9,
      "outputs": [
        {
          "output_type": "stream",
          "name": "stdout",
          "text": [
            "Test Mean Squared Error (MSE): nan\n"
          ]
        }
      ]
    },
    {
      "cell_type": "code",
      "source": [
        "from sklearn.metrics import mean_squared_error\n",
        "\n",
        "# Make predictions on the test data\n",
        "y_pred = model.predict(X_test)\n",
        "\n",
        "# Compute the MSE between the true and predicted values\n",
        "mse = mean_squared_error(y_test, y_pred)\n",
        "\n",
        "print(f\"Mean Squared Error (MSE): {mse}\")\n"
      ],
      "metadata": {
        "id": "1LR-I3SVr5Vq"
      },
      "execution_count": null,
      "outputs": []
    },
    {
      "cell_type": "code",
      "source": [
        "import tensorflow as tf\n",
        "import pandas as pd\n",
        "import numpy as np\n",
        "from sklearn.datasets import fetch_california_housing\n",
        "from sklearn.model_selection import train_test_split\n",
        "from sklearn.preprocessing import StandardScaler\n",
        "from sklearn.metrics import mean_squared_error\n",
        "\n",
        "# Load the California Housing Dataset\n",
        "raw = fetch_california_housing()\n",
        "X = pd.DataFrame(data=raw['data'], columns=raw['feature_names'])\n",
        "y = pd.Series(raw['target'])\n",
        "\n",
        "# Preprocess the data:\n",
        "# Normalize the features using the mean and standard deviation.\n",
        "scaler = StandardScaler()\n",
        "X = scaler.fit_transform(X)\n",
        "\n",
        "# Split the dataset into training and testing sets (80% for training, 20% for testing).\n",
        "X_train, X_test, y_train, y_test = train_test_split(X, y, test_size=0.2, random_state=42)\n",
        "\n",
        "# Define the TensorFlow graph:\n",
        "# Create placeholders for the input features (X) and target variable (y).\n",
        "input_X = tf.placeholder(tf.float32, [None, X_train.shape[1]])\n",
        "input_y = tf.placeholder(tf.float32, [None])\n",
        "\n",
        "# Create variables for the model's weights (W) and bias (b).\n",
        "W = tf.Variable(tf.random_normal([X_train.shape[1], 1]), name='weight')\n",
        "b = tf.Variable(tf.random_normal([1]), name='bias')\n",
        "\n",
        "# Define the linear regression model using the equation: y_pred = X * W + b.\n",
        "y_pred = tf.matmul(input_X, W) + b\n",
        "\n",
        "# Define the loss function as the mean squared error between the predicted values and the true values.\n",
        "loss = tf.reduce_mean(tf.square(y_pred - input_y))\n",
        "\n",
        "# Choose an optimizer (e.g., Gradient Descent) to minimize the loss function.\n",
        "optimizer = tf.train.GradientDescentOptimizer(learning_rate=0.01)\n",
        "train = optimizer.minimize(loss)\n",
        "\n",
        "# Train the model:\n",
        "# Initialize TensorFlow session.\n",
        "sess = tf.Session()\n",
        "\n",
        "# Initialize the model's variables.\n",
        "sess.run(tf.global_variables_initializer())\n",
        "\n",
        "# Set the number of training epochs and the learning rate.\n",
        "epochs = 1000\n",
        "\n",
        "# For each epoch, iterate through the training dataset and update the model's parameters using the optimizer.\n",
        "for epoch in range(epochs):\n",
        "    sess.run(train, feed_dict={input_X: X_train, input_y: y_train})\n",
        "    if epoch % 100 == 0: # Print the training loss at regular intervals.\n",
        "        curr_loss = sess.run(loss, feed_dict={input_X: X_train, input_y: y_train})\n",
        "        print(f\"Epoch: {epoch}, Loss: {curr_loss}\")\n",
        "\n",
        "# Evaluate the model:\n",
        "# Use the trained model to make predictions on the test dataset.\n",
        "y_test_pred = sess.run(y_pred, feed_dict={input_X: X_test})\n",
        "\n",
        "# Calculate the mean squared error (MSE) between the predicted and true values.\n",
        "mse = mean_squared_error(y_test, y_test_pred)\n",
        "\n",
        "# Print the MSE as a measure of the model's performance.\n",
        "print(f\"Test MSE: {mse}\")\n"
      ],
      "metadata": {
        "colab": {
          "base_uri": "https://localhost:8080/",
          "height": 236
        },
        "id": "Xu4kk-W1sU4J",
        "outputId": "90c7792c-17ef-4b53-fde1-000cabcf5f0c"
      },
      "execution_count": 11,
      "outputs": [
        {
          "output_type": "error",
          "ename": "AttributeError",
          "evalue": "ignored",
          "traceback": [
            "\u001b[0;31m---------------------------------------------------------------------------\u001b[0m",
            "\u001b[0;31mAttributeError\u001b[0m                            Traceback (most recent call last)",
            "\u001b[0;32m<ipython-input-11-72c3aa8e734d>\u001b[0m in \u001b[0;36m<cell line: 24>\u001b[0;34m()\u001b[0m\n\u001b[1;32m     22\u001b[0m \u001b[0;31m# Define the TensorFlow graph:\u001b[0m\u001b[0;34m\u001b[0m\u001b[0;34m\u001b[0m\u001b[0m\n\u001b[1;32m     23\u001b[0m \u001b[0;31m# Create placeholders for the input features (X) and target variable (y).\u001b[0m\u001b[0;34m\u001b[0m\u001b[0;34m\u001b[0m\u001b[0m\n\u001b[0;32m---> 24\u001b[0;31m \u001b[0minput_X\u001b[0m \u001b[0;34m=\u001b[0m \u001b[0mtf\u001b[0m\u001b[0;34m.\u001b[0m\u001b[0mplaceholder\u001b[0m\u001b[0;34m(\u001b[0m\u001b[0mtf\u001b[0m\u001b[0;34m.\u001b[0m\u001b[0mfloat32\u001b[0m\u001b[0;34m,\u001b[0m \u001b[0;34m[\u001b[0m\u001b[0;32mNone\u001b[0m\u001b[0;34m,\u001b[0m \u001b[0mX_train\u001b[0m\u001b[0;34m.\u001b[0m\u001b[0mshape\u001b[0m\u001b[0;34m[\u001b[0m\u001b[0;36m1\u001b[0m\u001b[0;34m]\u001b[0m\u001b[0;34m]\u001b[0m\u001b[0;34m)\u001b[0m\u001b[0;34m\u001b[0m\u001b[0;34m\u001b[0m\u001b[0m\n\u001b[0m\u001b[1;32m     25\u001b[0m \u001b[0minput_y\u001b[0m \u001b[0;34m=\u001b[0m \u001b[0mtf\u001b[0m\u001b[0;34m.\u001b[0m\u001b[0mplaceholder\u001b[0m\u001b[0;34m(\u001b[0m\u001b[0mtf\u001b[0m\u001b[0;34m.\u001b[0m\u001b[0mfloat32\u001b[0m\u001b[0;34m,\u001b[0m \u001b[0;34m[\u001b[0m\u001b[0;32mNone\u001b[0m\u001b[0;34m]\u001b[0m\u001b[0;34m)\u001b[0m\u001b[0;34m\u001b[0m\u001b[0;34m\u001b[0m\u001b[0m\n\u001b[1;32m     26\u001b[0m \u001b[0;34m\u001b[0m\u001b[0m\n",
            "\u001b[0;31mAttributeError\u001b[0m: module 'tensorflow' has no attribute 'placeholder'"
          ]
        }
      ]
    },
    {
      "cell_type": "code",
      "source": [
        "import tensorflow as tf\n",
        "import pandas as pd\n",
        "import numpy as np\n",
        "from sklearn.datasets import fetch_california_housing\n",
        "from sklearn.model_selection import train_test_split\n",
        "from sklearn.preprocessing import StandardScaler\n",
        "from sklearn.metrics import mean_squared_error\n",
        "\n"
      ],
      "metadata": {
        "id": "a1IGu2was2oP"
      },
      "execution_count": 13,
      "outputs": []
    },
    {
      "cell_type": "code",
      "source": [
        "\n",
        "# Load the California Housing Dataset\n",
        "raw = fetch_california_housing()\n",
        "X = pd.DataFrame(data=raw['data'], columns=raw['feature_names'])\n",
        "y = pd.Series(raw['target'])\n"
      ],
      "metadata": {
        "id": "4LSaPGSJtLCz"
      },
      "execution_count": 14,
      "outputs": []
    },
    {
      "cell_type": "code",
      "source": [
        "\n",
        "# Preprocess the data:\n",
        "# Normalize the features using the mean and standard deviation.\n",
        "scaler = StandardScaler()\n",
        "X = scaler.fit_transform(X)\n"
      ],
      "metadata": {
        "id": "IrfuJ8h2tNhT"
      },
      "execution_count": 15,
      "outputs": []
    },
    {
      "cell_type": "code",
      "source": [
        "\n",
        "# Split the dataset into training and testing sets (80% for training, 20% for testing).\n",
        "X_train, X_test, y_train, y_test = train_test_split(X, y, test_size=0.2, random_state=42)\n"
      ],
      "metadata": {
        "id": "SgHOE3sPtQuG"
      },
      "execution_count": 16,
      "outputs": []
    },
    {
      "cell_type": "code",
      "source": [
        "\n",
        "# Create the TensorFlow Dataset\n",
        "train_data = tf.data.Dataset.from_tensor_slices((X_train, y_train))\n",
        "train_data = train_data.batch(32)\n"
      ],
      "metadata": {
        "id": "o7xklIX-tTNE"
      },
      "execution_count": 17,
      "outputs": []
    },
    {
      "cell_type": "code",
      "source": [
        "\n",
        "# Define the model\n",
        "model = tf.keras.models.Sequential([\n",
        "    tf.keras.layers.Dense(1, input_shape=[X_train.shape[1]])\n",
        "])\n"
      ],
      "metadata": {
        "id": "gJqixC0FtWcN"
      },
      "execution_count": 18,
      "outputs": []
    },
    {
      "cell_type": "code",
      "source": [
        "\n",
        "# Define the loss function and optimizer\n",
        "model.compile(loss='mean_squared_error', optimizer='sgd')\n"
      ],
      "metadata": {
        "id": "9CtB2fAatZLk"
      },
      "execution_count": 19,
      "outputs": []
    },
    {
      "cell_type": "code",
      "source": [
        "\n",
        "# Train the model\n",
        "model.fit(train_data, epochs=20)\n"
      ],
      "metadata": {
        "colab": {
          "base_uri": "https://localhost:8080/"
        },
        "id": "kal10GuptbzM",
        "outputId": "41b56017-8648-4bf1-ba50-fe667b72a502"
      },
      "execution_count": 20,
      "outputs": [
        {
          "output_type": "stream",
          "name": "stdout",
          "text": [
            "Epoch 1/20\n",
            "516/516 [==============================] - 1s 1ms/step - loss: 8.5813\n",
            "Epoch 2/20\n",
            "516/516 [==============================] - 1s 1ms/step - loss: 38.8185\n",
            "Epoch 3/20\n",
            "516/516 [==============================] - 1s 2ms/step - loss: 224.5761\n",
            "Epoch 4/20\n",
            "516/516 [==============================] - 1s 2ms/step - loss: 1242.2596\n",
            "Epoch 5/20\n",
            "516/516 [==============================] - 1s 2ms/step - loss: 7033.2505\n",
            "Epoch 6/20\n",
            "516/516 [==============================] - 1s 2ms/step - loss: 39479.1172\n",
            "Epoch 7/20\n",
            "516/516 [==============================] - 1s 2ms/step - loss: 222435.2031\n",
            "Epoch 8/20\n",
            "516/516 [==============================] - 1s 1ms/step - loss: 1251327.7500\n",
            "Epoch 9/20\n",
            "516/516 [==============================] - 1s 1ms/step - loss: 7044053.5000\n",
            "Epoch 10/20\n",
            "516/516 [==============================] - 1s 2ms/step - loss: 39642084.0000\n",
            "Epoch 11/20\n",
            "516/516 [==============================] - 1s 1ms/step - loss: 223120496.0000\n",
            "Epoch 12/20\n",
            "516/516 [==============================] - 1s 1ms/step - loss: 1255744384.0000\n",
            "Epoch 13/20\n",
            "516/516 [==============================] - 1s 2ms/step - loss: 7067593216.0000\n",
            "Epoch 14/20\n",
            "516/516 [==============================] - 1s 1ms/step - loss: 39777628160.0000\n",
            "Epoch 15/20\n",
            "516/516 [==============================] - 1s 2ms/step - loss: 223876186112.0000\n",
            "Epoch 16/20\n",
            "516/516 [==============================] - 1s 1ms/step - loss: 1260014534656.0000\n",
            "Epoch 17/20\n",
            "516/516 [==============================] - 1s 2ms/step - loss: 7091608616960.0000\n",
            "Epoch 18/20\n",
            "516/516 [==============================] - 1s 2ms/step - loss: 39913022029824.0000\n",
            "Epoch 19/20\n",
            "516/516 [==============================] - 1s 1ms/step - loss: 224637845766144.0000\n",
            "Epoch 20/20\n",
            "516/516 [==============================] - 1s 1ms/step - loss: 1264301738295296.0000\n"
          ]
        },
        {
          "output_type": "execute_result",
          "data": {
            "text/plain": [
              "<keras.callbacks.History at 0x7fce0ecbae00>"
            ]
          },
          "metadata": {},
          "execution_count": 20
        }
      ]
    },
    {
      "cell_type": "code",
      "source": [
        "\n",
        "# Use the trained model to make predictions on the test dataset.\n",
        "y_test_pred = model.predict(X_test)\n"
      ],
      "metadata": {
        "colab": {
          "base_uri": "https://localhost:8080/"
        },
        "id": "G1tCCJKGttz-",
        "outputId": "57e26517-61f4-4836-f9da-a995f797933d"
      },
      "execution_count": 21,
      "outputs": [
        {
          "output_type": "stream",
          "name": "stdout",
          "text": [
            "129/129 [==============================] - 1s 4ms/step\n"
          ]
        }
      ]
    },
    {
      "cell_type": "code",
      "source": [
        "\n",
        "# Calculate the mean squared error (MSE) between the predicted and true values.\n",
        "mse = mean_squared_error(y_test, y_test_pred)\n",
        "mse"
      ],
      "metadata": {
        "colab": {
          "base_uri": "https://localhost:8080/"
        },
        "id": "1assSYSvtzOX",
        "outputId": "88af3109-08dd-4c41-ecd4-ebdb20917d16"
      },
      "execution_count": 23,
      "outputs": [
        {
          "output_type": "execute_result",
          "data": {
            "text/plain": [
              "25200275498250.51"
            ]
          },
          "metadata": {},
          "execution_count": 23
        }
      ]
    },
    {
      "cell_type": "code",
      "source": [
        "\n",
        "# Print the MSE as a measure of the model's performance.\n",
        "print(f\"Test MSE: {mse}\")"
      ],
      "metadata": {
        "colab": {
          "base_uri": "https://localhost:8080/"
        },
        "id": "jZ9bOzRxt4zW",
        "outputId": "397bf9b3-2fa3-4dcb-ec7a-fbab95be669a"
      },
      "execution_count": 24,
      "outputs": [
        {
          "output_type": "stream",
          "name": "stdout",
          "text": [
            "Test MSE: 25200275498250.51\n"
          ]
        }
      ]
    }
  ]
}